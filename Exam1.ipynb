Brief description on object types and data structures


#Numbers: there are ints and floats
#Strings: A string of characters
#Lists: Like an array []
#Tuples: Like a list but you cant reassign()
#Dictionaries: hold things and you can assign to that 
#thing, also u can assign a list to something
#EXAMPLE OF DICT: {'key1': ['a','b','c']}
NUMBERS

x
#write an equation that uses multiplication, division, 
#addition, and subtraction that is equal to 100.25
x = ((100 * 100)/(150 - 50)) + .25
x
100.25

6+5
4 * (6+5)
44

4*6+5
4*6+5
29

4+6*5
4+6*5
34
What type of the result of the expression 3 + 1.5 + 4?

-A float
What would you use to find a #'s square root and its square?


100 ** .5
#square root: 
100 ** .5
10.0

#Square:
10 ** 2
100
STRINGS

#Give the comman for the index that returns 'e'
s = 'Hello'
s[1]
'e'

::-1
#Reverse the string using slicing
s = 'Hello'
s[::-1]
'olleH'

#method 2
#Give two methods of producing the letter 'o' using index
s = 'hello'
s[4] #method 1
s[-1] #method 2
'o'
LISTS

#Build this list [0,0,0] two separate ways

mylist
#METHOD 1
mylist = [0,0,0]
mylist
[0, 0, 0]

 * 3
#METHOD 2
[0] * 3
[0, 0, 0]

list3
#Reassign 'hello' in the nested list to say 'goodbye' instead 
list3 = [1, 2, [3,4,'hello']]
list3[2][2]= 'goodbye'
list3
[1, 2, [3, 4, 'goodbye']]

#Sort the list below
list4= [5,3,4,6,1]
sorted(list4)
    #another methode could be list4.sort()
[1, 3, 4, 5, 6]
DICTIONARIES

simple_key
#Grab Hello
d = {'simple_key':'hello'}
d['simple_key']
'hello'

k2
#grab hello
d = {'k1':{'k2':'hello'}}
d['k1']['k2']
'hello'

0
#Getting a little tricker
d = {'k1':[{'nest_key':['this is deep',['hello']]}]}
d['k1'][0]['nest_key'][1][0]
'hello'

2
#This will be hard and annoying
d = {'k1':[1,2,{'k2':['this is tricky',{'tough':[1,2,['hello']]}]}]}
d['k1'][2]['k2'][1]['tough'][2]
['hello']
Can you sort a dictionary? Why or why not?
-No, because normal dictionaries are mapping not a sequence
TUPLE
What is the majow difference between tuple and lists?

-Tuple are immutable(unchangable)

1,2,3
#How do you create a tuple?
t = (1,2,3)
SETS
What is unique about a set?

-They don't allow for duplicated items


ist below:
#use a set to find the unique values of the list below:

list5
list5 =  [1,2,2,33,4,4,11,22,3,3,2]
set(list5)
{1, 2, 3, 4, 11, 22, 33}
BOOLEAN

 > 3
2 > 3
False

2
3 <= 2
False

3 == 2.0
3 == 2.0
False

3.0 == 3
3.0 == 3
True

4**.5 != 2
4**.5 != 2
False
FINAL QUESTION:


,
#What is the boolean output of this cell
l_one = [1,2,[3,4]]
l_two = [1,2,{'k1':4}]
​
#true or false?
l_one[2][0] >= l_two[2]['k1'] #false
False
